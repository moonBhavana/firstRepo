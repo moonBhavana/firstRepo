{
  "nbformat": 4,
  "nbformat_minor": 0,
  "metadata": {
    "colab": {
      "name": "hello.ipynb",
      "provenance": [],
      "collapsed_sections": [],
      "mount_file_id": "1-dohbO0z1CfhPUEMwrqeSeGZLS6oiLOf",
      "authorship_tag": "ABX9TyPb1wlwSIFk2Vyw+ry+TekV",
      "include_colab_link": true
    },
    "kernelspec": {
      "name": "python3",
      "display_name": "Python 3"
    }
  },
  "cells": [
    {
      "cell_type": "markdown",
      "metadata": {
        "id": "view-in-github",
        "colab_type": "text"
      },
      "source": [
        "<a href=\"https://colab.research.google.com/github/moonBhavana/firstRepo/blob/master/hello.ipynb\" target=\"_parent\"><img src=\"https://colab.research.google.com/assets/colab-badge.svg\" alt=\"Open In Colab\"/></a>"
      ]
    },
    {
      "cell_type": "markdown",
      "metadata": {
        "id": "SDQhiPvas892",
        "colab_type": "text"
      },
      "source": [
        "**Program 01**"
      ]
    },
    {
      "cell_type": "code",
      "metadata": {
        "id": "BnJjur9FqaNe",
        "colab_type": "code",
        "colab": {
          "base_uri": "https://localhost:8080/",
          "height": 173
        },
        "outputId": "d229310a-6d03-49b1-b163-0255705fc589"
      },
      "source": [
        "import random\n",
        "\n",
        "def c():\n",
        "\ta=random.randint(1,6)\n",
        "\tprint(\"rolled device value\")\n",
        "\tprint(a)\n",
        "\n",
        "\n",
        "while True:\n",
        "\tprint(\"Do you wanna play\")\n",
        "\tanswer=input(\"enter yes or no\\n\")\n",
        "\t\n",
        "\tif answer==\"yes\":\n",
        "\t\t\t\t\t\t\tc()\n",
        "\t\t\t\t\t\t\tcontinue\n",
        "\telse:\n",
        "\t\tprint(\"See you next time,game over\")\n",
        "\t\tbreak"
      ],
      "execution_count": 1,
      "outputs": [
        {
          "output_type": "stream",
          "text": [
            "Do you wanna play\n",
            "enter yes or no\n",
            "yes\n",
            "rolled device value\n",
            "6\n",
            "Do you wanna play\n",
            "enter yes or no\n",
            "no\n",
            "See you next time,game over\n"
          ],
          "name": "stdout"
        }
      ]
    },
    {
      "cell_type": "markdown",
      "metadata": {
        "id": "cOf7SyW6tFFd",
        "colab_type": "text"
      },
      "source": [
        "Program 02"
      ]
    },
    {
      "cell_type": "code",
      "metadata": {
        "id": "0QudxeNptN-F",
        "colab_type": "code",
        "colab": {}
      },
      "source": [
        "import covid"
      ],
      "execution_count": 0,
      "outputs": []
    },
    {
      "cell_type": "code",
      "metadata": {
        "id": "CMK6T-43tb4L",
        "colab_type": "code",
        "colab": {}
      },
      "source": [
        "pip install matplotlib"
      ],
      "execution_count": 0,
      "outputs": []
    }
  ]
}